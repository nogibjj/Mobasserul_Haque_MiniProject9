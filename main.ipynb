{
 "cells": [
  {
   "cell_type": "code",
   "execution_count": 17,
   "metadata": {},
   "outputs": [],
   "source": [
    "from myLib.lib import (\n",
    "    read_csv_file, summary_statistics, plot_histograms, \n",
    "    plot_scatter_with_hue, plot_box_by_category, plot_correlation_heatmap, \n",
    "    plot_scatter_with_trend, plot_bar_by_category\n",
    ")\n"
   ]
  },
  {
   "cell_type": "code",
   "execution_count": 18,
   "metadata": {},
   "outputs": [],
   "source": [
    "file_path = \"Customer Purchasing Behaviors.csv\"\n",
    "output_report = \"summary_report.md\" \n",
    "\n",
    "# Reading the data\n",
    "df = read_csv_file(file_path)\n",
    "\n",
    "# Writing summary statistics to the summary report file\n",
    "summary_statistics(df, output_report)\n"
   ]
  },
  {
   "cell_type": "code",
   "execution_count": null,
   "metadata": {},
   "outputs": [],
   "source": [
    "# Generating plots and saving them in the summary report file\n",
    "# plot_histograms\n",
    "plot_histograms(df, ['age', 'annual_income', 'purchase_amount', 'purchase_frequency'], \n",
    "                output_report)\n",
    "\n",
    "# plot_scatter_with_hue\n",
    "plot_scatter_with_hue(df, 'annual_income', 'purchase_amount', 'region', \n",
    "                      output_report)\n",
    "\n",
    "# plot_box_by_category\n",
    "plot_box_by_category(df, 'region', 'loyalty_score', output_report)\n",
    "\n",
    "# plot_correlation_heatmap\n",
    "plot_correlation_heatmap(\n",
    "    df, \n",
    "    ['purchase_amount', 'purchase_frequency', 'loyalty_score'], \n",
    "    output_report\n",
    ")\n",
    "\n",
    "# plot_scatter_with_trend\n",
    "plot_scatter_with_trend(df, 'annual_income', 'purchase_amount', output_report)\n",
    "\n",
    "# plot_bar_by_category\n",
    "plot_bar_by_category(df, 'region', 'purchase_amount', output_report)\n"
   ]
  }
 ],
 "metadata": {
  "kernelspec": {
   "display_name": "base",
   "language": "python",
   "name": "python3"
  },
  "language_info": {
   "codemirror_mode": {
    "name": "ipython",
    "version": 3
   },
   "file_extension": ".py",
   "mimetype": "text/x-python",
   "name": "python",
   "nbconvert_exporter": "python",
   "pygments_lexer": "ipython3",
   "version": "3.12.3"
  }
 },
 "nbformat": 4,
 "nbformat_minor": 2
}
